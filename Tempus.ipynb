{
 "cells": [
  {
   "cell_type": "code",
   "execution_count": 251,
   "metadata": {},
   "outputs": [],
   "source": [
    "import pandas as pd\n",
    "from sklearn.decomposition import PCA\n",
    "import matplotlib.pyplot as plt\n",
    "import numpy as np\n",
    "from sklearn.model_selection import GridSearchCV\n",
    "from sklearn.metrics import accuracy_score, f1_score\n",
    "from sklearn.linear_model import LogisticRegression\n",
    "from sklearn.neighbors import KNeighborsClassifier\n",
    "from sklearn.naive_bayes import GaussianNB\n",
    "from sklearn.svm import SVC\n",
    "from sklearn.ensemble import RandomForestClassifier"
   ]
  },
  {
   "cell_type": "code",
   "execution_count": 252,
   "metadata": {},
   "outputs": [],
   "source": [
    "data = pd.read_csv('DScasestudy.txt', delimiter ='\\t')"
   ]
  },
  {
   "cell_type": "code",
   "execution_count": 253,
   "metadata": {},
   "outputs": [
    {
     "data": {
      "text/plain": [
       "(530, 16563)"
      ]
     },
     "execution_count": 253,
     "metadata": {},
     "output_type": "execute_result"
    }
   ],
   "source": [
    "data.shape"
   ]
  },
  {
   "cell_type": "code",
   "execution_count": 254,
   "metadata": {},
   "outputs": [
    {
     "name": "stdout",
     "output_type": "stream",
     "text": [
      "   response  V1  V2  V3  V4  V5  V6  V7  V8  V9   ...    V16553  V16554  \\\n",
      "0         1   0   0   0   0   0   1   0   0   0   ...         1       0   \n",
      "1         1   0   0   0   0   0   1   0   0   0   ...         0       0   \n",
      "2         1   0   0   0   0   0   1   0   0   0   ...         0       0   \n",
      "3         1   0   0   0   0   0   1   0   0   0   ...         0       0   \n",
      "4         1   0   0   0   0   0   1   0   0   0   ...         0       0   \n",
      "\n",
      "   V16555  V16556  V16557  V16558  V16559  V16560  V16561  V16562  \n",
      "0       0       0       0       0       0       0       0       0  \n",
      "1       0       0       0       0       0       0       0       1  \n",
      "2       0       0       0       0       0       0       0       1  \n",
      "3       0       0       0       0       0       0       0       0  \n",
      "4       0       0       0       0       0       0       0       0  \n",
      "\n",
      "[5 rows x 16563 columns]\n"
     ]
    }
   ],
   "source": [
    "print(data.head())"
   ]
  },
  {
   "cell_type": "code",
   "execution_count": 255,
   "metadata": {},
   "outputs": [
    {
     "data": {
      "text/html": [
       "<div>\n",
       "<style scoped>\n",
       "    .dataframe tbody tr th:only-of-type {\n",
       "        vertical-align: middle;\n",
       "    }\n",
       "\n",
       "    .dataframe tbody tr th {\n",
       "        vertical-align: top;\n",
       "    }\n",
       "\n",
       "    .dataframe thead th {\n",
       "        text-align: right;\n",
       "    }\n",
       "</style>\n",
       "<table border=\"1\" class=\"dataframe\">\n",
       "  <thead>\n",
       "    <tr style=\"text-align: right;\">\n",
       "      <th></th>\n",
       "      <th>response</th>\n",
       "      <th>V1</th>\n",
       "      <th>V2</th>\n",
       "      <th>V3</th>\n",
       "      <th>V4</th>\n",
       "      <th>V5</th>\n",
       "      <th>V6</th>\n",
       "      <th>V7</th>\n",
       "      <th>V8</th>\n",
       "      <th>V9</th>\n",
       "      <th>...</th>\n",
       "      <th>V16553</th>\n",
       "      <th>V16554</th>\n",
       "      <th>V16555</th>\n",
       "      <th>V16556</th>\n",
       "      <th>V16557</th>\n",
       "      <th>V16558</th>\n",
       "      <th>V16559</th>\n",
       "      <th>V16560</th>\n",
       "      <th>V16561</th>\n",
       "      <th>V16562</th>\n",
       "    </tr>\n",
       "  </thead>\n",
       "  <tbody>\n",
       "    <tr>\n",
       "      <th>0</th>\n",
       "      <td>407</td>\n",
       "      <td>525</td>\n",
       "      <td>525</td>\n",
       "      <td>529</td>\n",
       "      <td>530.0</td>\n",
       "      <td>519</td>\n",
       "      <td>NaN</td>\n",
       "      <td>529</td>\n",
       "      <td>514</td>\n",
       "      <td>530.0</td>\n",
       "      <td>...</td>\n",
       "      <td>446</td>\n",
       "      <td>530.0</td>\n",
       "      <td>530.0</td>\n",
       "      <td>529</td>\n",
       "      <td>519</td>\n",
       "      <td>523</td>\n",
       "      <td>530.0</td>\n",
       "      <td>528</td>\n",
       "      <td>530.0</td>\n",
       "      <td>293</td>\n",
       "    </tr>\n",
       "    <tr>\n",
       "      <th>1</th>\n",
       "      <td>123</td>\n",
       "      <td>5</td>\n",
       "      <td>5</td>\n",
       "      <td>1</td>\n",
       "      <td>NaN</td>\n",
       "      <td>11</td>\n",
       "      <td>530.0</td>\n",
       "      <td>1</td>\n",
       "      <td>16</td>\n",
       "      <td>NaN</td>\n",
       "      <td>...</td>\n",
       "      <td>84</td>\n",
       "      <td>NaN</td>\n",
       "      <td>NaN</td>\n",
       "      <td>1</td>\n",
       "      <td>11</td>\n",
       "      <td>7</td>\n",
       "      <td>NaN</td>\n",
       "      <td>2</td>\n",
       "      <td>NaN</td>\n",
       "      <td>237</td>\n",
       "    </tr>\n",
       "  </tbody>\n",
       "</table>\n",
       "<p>2 rows × 16563 columns</p>\n",
       "</div>"
      ],
      "text/plain": [
       "   response   V1   V2   V3     V4   V5     V6   V7   V8     V9   ...    \\\n",
       "0       407  525  525  529  530.0  519    NaN  529  514  530.0   ...     \n",
       "1       123    5    5    1    NaN   11  530.0    1   16    NaN   ...     \n",
       "\n",
       "   V16553  V16554  V16555  V16556  V16557  V16558  V16559  V16560  V16561  \\\n",
       "0     446   530.0   530.0     529     519     523   530.0     528   530.0   \n",
       "1      84     NaN     NaN       1      11       7     NaN       2     NaN   \n",
       "\n",
       "   V16562  \n",
       "0     293  \n",
       "1     237  \n",
       "\n",
       "[2 rows x 16563 columns]"
      ]
     },
     "execution_count": 255,
     "metadata": {},
     "output_type": "execute_result"
    }
   ],
   "source": [
    "data.apply(pd.value_counts)\n",
    "#Check to make sure all columns oncly contain binary (0,1) data.  Also look for imbalance target class.  It appears as though \n",
    "#approx 77% of target data is 0 "
   ]
  },
  {
   "cell_type": "code",
   "execution_count": 256,
   "metadata": {},
   "outputs": [],
   "source": [
    "X = data.drop(['response'], axis=1)"
   ]
  },
  {
   "cell_type": "code",
   "execution_count": 257,
   "metadata": {},
   "outputs": [],
   "source": [
    "y = data['response']"
   ]
  },
  {
   "cell_type": "code",
   "execution_count": 258,
   "metadata": {},
   "outputs": [
    {
     "name": "stdout",
     "output_type": "stream",
     "text": [
      "   V1  V2  V3  V4  V5  V6  V7  V8  V9  V10   ...    V16553  V16554  V16555  \\\n",
      "0   0   0   0   0   0   1   0   0   0    0   ...         1       0       0   \n",
      "1   0   0   0   0   0   1   0   0   0    0   ...         0       0       0   \n",
      "2   0   0   0   0   0   1   0   0   0    0   ...         0       0       0   \n",
      "3   0   0   0   0   0   1   0   0   0    0   ...         0       0       0   \n",
      "4   0   0   0   0   0   1   0   0   0    0   ...         0       0       0   \n",
      "\n",
      "   V16556  V16557  V16558  V16559  V16560  V16561  V16562  \n",
      "0       0       0       0       0       0       0       0  \n",
      "1       0       0       0       0       0       0       1  \n",
      "2       0       0       0       0       0       0       1  \n",
      "3       0       0       0       0       0       0       0  \n",
      "4       0       0       0       0       0       0       0  \n",
      "\n",
      "[5 rows x 16562 columns]\n"
     ]
    }
   ],
   "source": [
    "print(X.head())"
   ]
  },
  {
   "cell_type": "code",
   "execution_count": 259,
   "metadata": {},
   "outputs": [
    {
     "name": "stdout",
     "output_type": "stream",
     "text": [
      "0    1\n",
      "1    1\n",
      "2    1\n",
      "3    1\n",
      "4    1\n",
      "Name: response, dtype: int64\n"
     ]
    }
   ],
   "source": [
    "print(y.head())"
   ]
  },
  {
   "cell_type": "code",
   "execution_count": 260,
   "metadata": {},
   "outputs": [],
   "source": [
    "from sklearn.model_selection import train_test_split\n",
    "X_train, X_test, y_train, y_test = train_test_split(X, y, test_size = .2, random_state = 13)\n",
    "#create seperate training and test data sets"
   ]
  },
  {
   "cell_type": "code",
   "execution_count": 261,
   "metadata": {},
   "outputs": [
    {
     "data": {
      "text/plain": [
       "[<matplotlib.lines.Line2D at 0x1c69293c9e8>]"
      ]
     },
     "execution_count": 261,
     "metadata": {},
     "output_type": "execute_result"
    },
    {
     "data": {
      "image/png": "[encoded data removed]",
      "text/plain": [
       "<Figure size 432x288 with 1 Axes>"
      ]
     },
     "metadata": {},
     "output_type": "display_data"
    }
   ],
   "source": [
    "pca1 = PCA().fit(X_train)\n",
    "plt.plot(np.cumsum(pca1.explained_variance_ratio_))\n",
    "#We will determing n_components in our PCA model by attempting to retain 90% of the variance in the original data.  From this\n",
    "#plot it appears that choosing 300 components would be adequate to retain approximately 90% of the variance.  "
   ]
  },
  {
   "cell_type": "code",
   "execution_count": 262,
   "metadata": {},
   "outputs": [],
   "source": [
    "pca = PCA(n_components = 300)\n",
    "X_train = pca.fit_transform(X_train)\n",
    "X_test = pca.transform(X_test)\n",
    "#apply PCA to training set and test set to reduce dimensionality from 16,562 features to 300 features"
   ]
  },
  {
   "cell_type": "code",
   "execution_count": 263,
   "metadata": {},
   "outputs": [
    {
     "data": {
      "text/plain": [
       "GaussianNB(priors=None)"
      ]
     },
     "execution_count": 263,
     "metadata": {},
     "output_type": "execute_result"
    }
   ],
   "source": [
    "NaiveBayes = GaussianNB()\n",
    "NaiveBayes.fit(X_train, y_train)\n",
    "#create a Naive Bayes classification model"
   ]
  },
  {
   "cell_type": "code",
   "execution_count": 264,
   "metadata": {},
   "outputs": [],
   "source": [
    "y_pred = NaiveBayes.predict(X_test)"
   ]
  },
  {
   "cell_type": "code",
   "execution_count": 265,
   "metadata": {},
   "outputs": [
    {
     "data": {
      "text/plain": [
       "0.8867924528301887"
      ]
     },
     "execution_count": 265,
     "metadata": {},
     "output_type": "execute_result"
    }
   ],
   "source": [
    "NaiveBayes.score(X_train, y_train)"
   ]
  },
  {
   "cell_type": "code",
   "execution_count": 266,
   "metadata": {},
   "outputs": [
    {
     "data": {
      "text/plain": [
       "0.7924528301886793"
      ]
     },
     "execution_count": 266,
     "metadata": {},
     "output_type": "execute_result"
    }
   ],
   "source": [
    "NaiveBayes.score(X_test, y_test)"
   ]
  },
  {
   "cell_type": "code",
   "execution_count": 267,
   "metadata": {},
   "outputs": [
    {
     "name": "stdout",
     "output_type": "stream",
     "text": [
      "[[84  0]\n",
      " [22  0]]\n"
     ]
    }
   ],
   "source": [
    "from sklearn.metrics import confusion_matrix\n",
    "cm = confusion_matrix(y_test, y_pred)\n",
    "print(cm)"
   ]
  },
  {
   "cell_type": "code",
   "execution_count": 268,
   "metadata": {},
   "outputs": [],
   "source": [
    "#define fucntion to run a baseline score for classifiers using default hyperparameter values\n",
    "def scores(models, X, y):\n",
    "    for model in models:\n",
    "        y_pred = model.predict(X)\n",
    "        acc = accuracy_score(y, y_pred)\n",
    "        print(\"Accuracy Score: {0:0.2f} %\".format(acc * 100))"
   ]
  },
  {
   "cell_type": "code",
   "execution_count": 269,
   "metadata": {},
   "outputs": [],
   "source": [
    "#classification models used with default hyperparameters\n",
    "models = [LogisticRegression(random_state=13),\n",
    "          KNeighborsClassifier(),\n",
    "          SVC(random_state = 13),\n",
    "          RandomForestClassifier(random_state = 13)]"
   ]
  },
  {
   "cell_type": "code",
   "execution_count": 270,
   "metadata": {},
   "outputs": [],
   "source": [
    "for model in models:\n",
    "    model.fit(X_train, y_train)\n",
    "#fit training data to the 4 different models"
   ]
  },
  {
   "cell_type": "code",
   "execution_count": 271,
   "metadata": {},
   "outputs": [
    {
     "name": "stdout",
     "output_type": "stream",
     "text": [
      "Accuracy Score: 100.00 %\n",
      "Accuracy Score: 79.01 %\n",
      "Accuracy Score: 98.35 %\n",
      "Accuracy Score: 99.06 %\n"
     ]
    }
   ],
   "source": [
    "scores(models, X_train, y_train)"
   ]
  },
  {
   "cell_type": "code",
   "execution_count": 272,
   "metadata": {},
   "outputs": [
    {
     "name": "stdout",
     "output_type": "stream",
     "text": [
      "Accuracy Score: 79.25 %\n",
      "Accuracy Score: 75.47 %\n",
      "Accuracy Score: 83.02 %\n",
      "Accuracy Score: 79.25 %\n"
     ]
    }
   ],
   "source": [
    "scores(models, X_test, y_test)\n",
    "#Initially it looks like Support Vector classifier with default linear parameters generalized fairly well"
   ]
  },
  {
   "cell_type": "code",
   "execution_count": 273,
   "metadata": {},
   "outputs": [],
   "source": [
    "#define hyperparameters to be used during GridSearch\n",
    "LR_grid_parameters = {'C': [0.1, 1, 10, 50], 'penalty': ['l1', 'l2'], 'random_state': [13]}\n",
    "KNN_grid_parameters = {'n_neighbors': [3, 5, 10, 20], 'weights': ['uniform', 'distance']}\n",
    "SVM_poly_grid_parameters = {'kernel': ['poly'], 'degree': [1, 2, 3, 4], 'gamma': [.5, .2, .05, .01, .001],\n",
    "                            'C': [0.1, 1, 10, 50], 'random_state': [13]}\n",
    "SVM_grid_parameters = {'kernel': ['linear', 'rbf', 'sigmoid'], 'gamma': [.5, .2, .05, .01, .001],\n",
    "                       'C': [0.1, 1, 10, 50], 'random_state': [13]}\n",
    "RF_grid_parameters = {'n_estimators': [10, 50, 100], 'criterion': ['gini', 'entropy'],\n",
    "               'max_depth': [None, 10, 25, 50], 'random_state': [13]}"
   ]
  },
  {
   "cell_type": "code",
   "execution_count": 274,
   "metadata": {},
   "outputs": [
    {
     "name": "stdout",
     "output_type": "stream",
     "text": [
      "Best score: 0.835\n",
      "Best parameters set:\n",
      "\tC: 0.1\n",
      "\tpenalty: 'l1'\n",
      "\trandom_state: 13\n"
     ]
    }
   ],
   "source": [
    "LR_grid = GridSearchCV(estimator = LogisticRegression(), param_grid = LR_grid_parameters, \n",
    "                        scoring = 'accuracy')\n",
    "LR_grid.fit(X_train, y_train)\n",
    "print(\"Best score: %0.3f\" % LR_grid.best_score_)\n",
    "print(\"Best parameters set:\")\n",
    "best_parameters=LR_grid.best_estimator_.get_params()\n",
    "for param_name in sorted(LR_grid_parameters.keys()):\n",
    "        print(\"\\t%s: %r\" % (param_name, best_parameters[param_name]))\n",
    "#determine optimized hyperparameters for Logistic Regression Model"
   ]
  },
  {
   "cell_type": "code",
   "execution_count": 275,
   "metadata": {},
   "outputs": [
    {
     "name": "stdout",
     "output_type": "stream",
     "text": [
      "Best score: 0.767\n",
      "Best parameters set:\n",
      "\tn_neighbors: 10\n",
      "\tweights: 'uniform'\n"
     ]
    }
   ],
   "source": [
    "KNN_grid = GridSearchCV(estimator = KNeighborsClassifier(), param_grid = KNN_grid_parameters, \n",
    "                        scoring = 'accuracy')\n",
    "KNN_grid.fit(X_train, y_train)\n",
    "print(\"Best score: %0.3f\" % KNN_grid.best_score_)\n",
    "print(\"Best parameters set:\")\n",
    "best_parameters=KNN_grid.best_estimator_.get_params()\n",
    "for param_name in sorted(KNN_grid_parameters.keys()):\n",
    "        print(\"\\t%s: %r\" % (param_name, best_parameters[param_name]))\n",
    "#determine optimized hyperparameters for KNN model"
   ]
  },
  {
   "cell_type": "code",
   "execution_count": 276,
   "metadata": {},
   "outputs": [
    {
     "name": "stdout",
     "output_type": "stream",
     "text": [
      "Best score: 0.847\n",
      "Best parameters set:\n",
      "\tC: 0.1\n",
      "\tdegree: 1\n",
      "\tgamma: 0.05\n",
      "\tkernel: 'poly'\n",
      "\trandom_state: 13\n"
     ]
    }
   ],
   "source": [
    "SVM_poly_grid = GridSearchCV(estimator = SVC(), param_grid = SVM_poly_grid_parameters, \n",
    "                             scoring = 'accuracy')\n",
    "SVM_poly_grid.fit(X_train, y_train)\n",
    "print(\"Best score: %0.3f\" % SVM_poly_grid.best_score_)\n",
    "print(\"Best parameters set:\")\n",
    "best_parameters=SVM_poly_grid.best_estimator_.get_params()\n",
    "for param_name in sorted(SVM_poly_grid_parameters.keys()):\n",
    "        print(\"\\t%s: %r\" % (param_name, best_parameters[param_name]))\n",
    "#determine optimized hyperparameters for SVM Polynomial model"
   ]
  },
  {
   "cell_type": "code",
   "execution_count": 277,
   "metadata": {},
   "outputs": [
    {
     "name": "stdout",
     "output_type": "stream",
     "text": [
      "Best score: 0.840\n",
      "Best parameters set:\n",
      "\tC: 10\n",
      "\tgamma: 0.001\n",
      "\tkernel: 'rbf'\n",
      "\trandom_state: 13\n"
     ]
    }
   ],
   "source": [
    "SVM_grid = GridSearchCV(estimator = SVC(), param_grid = SVM_grid_parameters, \n",
    "                             scoring = 'accuracy')\n",
    "SVM_grid.fit(X_train, y_train)\n",
    "print(\"Best score: %0.3f\" % SVM_grid.best_score_)\n",
    "print(\"Best parameters set:\")\n",
    "best_parameters=SVM_grid.best_estimator_.get_params()\n",
    "for param_name in sorted(SVM_grid_parameters.keys()):\n",
    "        print(\"\\t%s: %r\" % (param_name, best_parameters[param_name]))\n",
    "#determine optimized hyperparameters for SVM linear/kernel models"
   ]
  },
  {
   "cell_type": "code",
   "execution_count": 278,
   "metadata": {},
   "outputs": [
    {
     "name": "stdout",
     "output_type": "stream",
     "text": [
      "Best score: 0.767\n",
      "Best parameters set:\n",
      "\tcriterion: 'gini'\n",
      "\tmax_depth: None\n",
      "\tn_estimators: 50\n",
      "\trandom_state: 13\n"
     ]
    }
   ],
   "source": [
    "RF_grid = GridSearchCV(estimator = RandomForestClassifier(), param_grid = RF_grid_parameters, \n",
    "                             scoring = 'accuracy')\n",
    "RF_grid.fit(X_train, y_train)\n",
    "print(\"Best score: %0.3f\" % RF_grid.best_score_)\n",
    "print(\"Best parameters set:\")\n",
    "best_parameters=RF_grid.best_estimator_.get_params()\n",
    "for param_name in sorted(RF_grid_parameters.keys()):\n",
    "        print(\"\\t%s: %r\" % (param_name, best_parameters[param_name]))\n",
    "#determine optimized parameters for Random Forest model"
   ]
  },
  {
   "cell_type": "code",
   "execution_count": 279,
   "metadata": {},
   "outputs": [
    {
     "data": {
      "text/plain": [
       "LogisticRegression(C=0.1, class_weight=None, dual=False, fit_intercept=True,\n",
       "          intercept_scaling=1, max_iter=100, multi_class='ovr', n_jobs=1,\n",
       "          penalty='l1', random_state=13, solver='liblinear', tol=0.0001,\n",
       "          verbose=0, warm_start=False)"
      ]
     },
     "execution_count": 279,
     "metadata": {},
     "output_type": "execute_result"
    }
   ],
   "source": [
    "LogReg = LogisticRegression(penalty= 'l1', C=.1, random_state = 13 )\n",
    "LogReg.fit(X_train, y_train)\n",
    "#Recreate Logistic Regression model with optimized pararameters.  Accuracy will be slightly different since data is not \n",
    "#cross validated"
   ]
  },
  {
   "cell_type": "code",
   "execution_count": 280,
   "metadata": {},
   "outputs": [],
   "source": [
    "y_pred1 = LogReg.predict(X_test)"
   ]
  },
  {
   "cell_type": "code",
   "execution_count": 281,
   "metadata": {},
   "outputs": [],
   "source": [
    "cm1 = confusion_matrix(y_test, y_pred1)"
   ]
  },
  {
   "cell_type": "code",
   "execution_count": 282,
   "metadata": {},
   "outputs": [
    {
     "name": "stdout",
     "output_type": "stream",
     "text": [
      "[[78  6]\n",
      " [11 11]]\n"
     ]
    }
   ],
   "source": [
    "print(cm1)"
   ]
  },
  {
   "cell_type": "code",
   "execution_count": 283,
   "metadata": {},
   "outputs": [
    {
     "name": "stdout",
     "output_type": "stream",
     "text": [
      "             precision    recall  f1-score   support\n",
      "\n",
      "          0       0.88      0.93      0.90        84\n",
      "          1       0.65      0.50      0.56        22\n",
      "\n",
      "avg / total       0.83      0.84      0.83       106\n",
      "\n"
     ]
    }
   ],
   "source": [
    "from sklearn.metrics import classification_report\n",
    "print(classification_report(y_test, y_pred1))"
   ]
  },
  {
   "cell_type": "code",
   "execution_count": 284,
   "metadata": {},
   "outputs": [
    {
     "data": {
      "text/plain": [
       "SVC(C=0.1, cache_size=200, class_weight=None, coef0=0.0,\n",
       "  decision_function_shape='ovr', degree=1, gamma=0.05, kernel='poly',\n",
       "  max_iter=-1, probability=False, random_state=13, shrinking=True,\n",
       "  tol=0.001, verbose=False)"
      ]
     },
     "execution_count": 284,
     "metadata": {},
     "output_type": "execute_result"
    }
   ],
   "source": [
    "SVM_Poly = SVC(C = .1, degree = 1, gamma = .05, kernel = 'poly', random_state = 13)\n",
    "SVM_Poly.fit(X_train, y_train)\n",
    "#Recreate Support Vector Polynomial model with optimized pararameters.  Accuracy will be slightly different since data is not \n",
    "#cross validated"
   ]
  },
  {
   "cell_type": "code",
   "execution_count": 285,
   "metadata": {},
   "outputs": [],
   "source": [
    "y_pred2 = SVM_Poly.predict(X_test)"
   ]
  },
  {
   "cell_type": "code",
   "execution_count": 287,
   "metadata": {},
   "outputs": [
    {
     "name": "stdout",
     "output_type": "stream",
     "text": [
      "[[78  6]\n",
      " [12 10]]\n"
     ]
    }
   ],
   "source": [
    "cm2 = confusion_matrix(y_test, y_pred2)\n",
    "print(cm2)"
   ]
  },
  {
   "cell_type": "code",
   "execution_count": 288,
   "metadata": {},
   "outputs": [
    {
     "name": "stdout",
     "output_type": "stream",
     "text": [
      "             precision    recall  f1-score   support\n",
      "\n",
      "          0       0.87      0.93      0.90        84\n",
      "          1       0.62      0.45      0.53        22\n",
      "\n",
      "avg / total       0.82      0.83      0.82       106\n",
      "\n"
     ]
    }
   ],
   "source": [
    "print(classification_report(y_test, y_pred2))"
   ]
  },
  {
   "cell_type": "code",
   "execution_count": 289,
   "metadata": {},
   "outputs": [
    {
     "data": {
      "text/plain": [
       "SVC(C=10, cache_size=200, class_weight=None, coef0=0.0,\n",
       "  decision_function_shape='ovr', degree=3, gamma=0.001, kernel='rbf',\n",
       "  max_iter=-1, probability=False, random_state=13, shrinking=True,\n",
       "  tol=0.001, verbose=False)"
      ]
     },
     "execution_count": 289,
     "metadata": {},
     "output_type": "execute_result"
    }
   ],
   "source": [
    "SVM_rbf = SVC(C = 10, gamma = .001, kernel = 'rbf', random_state = 13)\n",
    "SVM_rbf.fit(X_train, y_train)\n",
    "#Recreate Support Vector RBF model with optimized pararameters.  Accuracy will be slightly different since data is not \n",
    "#cross validated"
   ]
  },
  {
   "cell_type": "code",
   "execution_count": 290,
   "metadata": {},
   "outputs": [],
   "source": [
    "y_pred3 = SVM_rbf.predict(X_test)"
   ]
  },
  {
   "cell_type": "code",
   "execution_count": 292,
   "metadata": {},
   "outputs": [
    {
     "name": "stdout",
     "output_type": "stream",
     "text": [
      "[[76  8]\n",
      " [11 11]]\n"
     ]
    }
   ],
   "source": [
    "cm3 = confusion_matrix(y_test, y_pred3)\n",
    "print(cm3)"
   ]
  },
  {
   "cell_type": "code",
   "execution_count": 293,
   "metadata": {},
   "outputs": [
    {
     "name": "stdout",
     "output_type": "stream",
     "text": [
      "             precision    recall  f1-score   support\n",
      "\n",
      "          0       0.87      0.90      0.89        84\n",
      "          1       0.58      0.50      0.54        22\n",
      "\n",
      "avg / total       0.81      0.82      0.82       106\n",
      "\n"
     ]
    }
   ],
   "source": [
    "print(classification_report(y_test, y_pred3))"
   ]
  }
 ],
 "metadata": {
  "kernelspec": {
   "display_name": "Python 3",
   "language": "python",
   "name": "python3"
  },
  "language_info": {
   "codemirror_mode": {
    "name": "ipython",
    "version": 3
   },
   "file_extension": ".py",
   "mimetype": "text/x-python",
   "name": "python",
   "nbconvert_exporter": "python",
   "pygments_lexer": "ipython3",
   "version": "3.6.5"
  }
 },
 "nbformat": 4,
 "nbformat_minor": 2
}
